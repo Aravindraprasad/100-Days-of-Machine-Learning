{
  "nbformat": 4,
  "nbformat_minor": 0,
  "metadata": {
    "colab": {
      "provenance": []
    },
    "kernelspec": {
      "name": "python3",
      "display_name": "Python 3"
    },
    "language_info": {
      "name": "python"
    }
  },
  "cells": [
    {
      "cell_type": "code",
      "execution_count": null,
      "metadata": {
        "id": "P5XkwQUq3HQU"
      },
      "outputs": [],
      "source": [
        "import pandas as pd"
      ]
    },
    {
      "cell_type": "code",
      "source": [
        "# API_site_line : https://rapidapi.com/hub"
      ],
      "metadata": {
        "id": "Shuv7pMNsly8"
      },
      "execution_count": null,
      "outputs": []
    },
    {
      "cell_type": "code",
      "source": [
        "import requests\n",
        "\n",
        "url = \"https://imdb-top-100-movies.p.rapidapi.com/\"\n",
        "\n",
        "headers = {\n",
        "\t\"x-rapidapi-key\": \"6378fb314fmshbbfb2457f76ff65p109475jsna553eabf2e9e\",\n",
        "\t\"x-rapidapi-host\": \"imdb-top-100-movies.p.rapidapi.com\"\n",
        "}\n",
        "\n",
        "response = requests.get(url, headers=headers)\n",
        "\n",
        "response.json()"
      ],
      "metadata": {
        "id": "iqy2R95O-JAw"
      },
      "execution_count": null,
      "outputs": []
    },
    {
      "cell_type": "code",
      "source": [
        "# Accessing a specific element\n",
        "response.json()[0]['title']"
      ],
      "metadata": {
        "id": "jcteGJBE-JM_",
        "colab": {
          "base_uri": "https://localhost:8080/",
          "height": 36
        },
        "outputId": "9cc747e4-51fe-4124-b95a-c5225958154d"
      },
      "execution_count": null,
      "outputs": [
        {
          "output_type": "execute_result",
          "data": {
            "text/plain": [
              "'The Shawshank Redemption'"
            ],
            "application/vnd.google.colaboratory.intrinsic+json": {
              "type": "string"
            }
          },
          "metadata": {},
          "execution_count": 29
        }
      ]
    },
    {
      "cell_type": "code",
      "source": [
        "# JSON -> DataFrame\n",
        "\n",
        "df = pd.DataFrame(response.json())\n",
        "df.head()"
      ],
      "metadata": {
        "id": "aeG_ZXl3-JQT"
      },
      "execution_count": null,
      "outputs": []
    },
    {
      "cell_type": "code",
      "source": [],
      "metadata": {
        "id": "vvSAlcCt-JTn"
      },
      "execution_count": null,
      "outputs": []
    },
    {
      "cell_type": "code",
      "source": [
        "df.shape"
      ],
      "metadata": {
        "id": "kAiPfy_1-JXc"
      },
      "execution_count": null,
      "outputs": []
    },
    {
      "cell_type": "code",
      "source": [
        "# Export as csv\n",
        "\n",
        "df.to_csv('movies.csv')"
      ],
      "metadata": {
        "id": "Xbr4dzm2-Jaz"
      },
      "execution_count": null,
      "outputs": []
    }
  ]
}